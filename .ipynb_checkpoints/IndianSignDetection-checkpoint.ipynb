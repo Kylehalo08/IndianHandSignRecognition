{
 "cells": [
  {
   "cell_type": "markdown",
   "id": "10ff47fc",
   "metadata": {},
   "source": [
    "# Indian Sign Language Detection\n"
   ]
  },
  {
   "cell_type": "code",
   "execution_count": null,
   "id": "6efde190",
   "metadata": {},
   "outputs": [],
   "source": [
    "import tensorflow as tf\n",
    "from keras.preprocessing.image import ImageDataGenerator"
   ]
  },
  {
   "cell_type": "code",
   "execution_count": null,
   "id": "b6ebff60",
   "metadata": {},
   "outputs": [],
   "source": [
    "#Preprocessing of training set\n",
    "train_datagen=ImageDataGenerator(rescale=1./255,\n",
    "                                 shear_range=45.0,\n",
    "                                zoom_range=0.2,\n",
    "                                horizontal_flip=True)"
   ]
  },
  {
   "cell_type": "code",
   "execution_count": null,
   "id": "03004c41",
   "metadata": {},
   "outputs": [],
   "source": [
    "#Training Set\n",
    "training_set=train_datagen.flow_from_directory('dataset/training_set',\n",
    "                                              target_size=(64,64),\n",
    "                                              batch_size=32,\n",
    "                                              class_mode='categorical')"
   ]
  },
  {
   "cell_type": "code",
   "execution_count": null,
   "id": "97f23ff4",
   "metadata": {},
   "outputs": [],
   "source": [
    "#Test Set\n",
    "test_datagen=ImageDataGenerator(rescale=1./255)\n",
    "test_set=test_datagen.flow_from_directory('dataset/test_set',target_size=(64,64),\n",
    "                                         class_mode='categorical')"
   ]
  },
  {
   "cell_type": "code",
   "execution_count": null,
   "id": "551182c1",
   "metadata": {},
   "outputs": [],
   "source": [
    "#BUILDING CNN\n",
    "#initialise CNN\n",
    "cnn=tf.keras.models.Sequential()"
   ]
  },
  {
   "cell_type": "code",
   "execution_count": null,
   "id": "b4417f31",
   "metadata": {},
   "outputs": [],
   "source": [
    "#Convulation\n",
    "cnn.add(tf.keras.layers.Conv2D(filters=32,kernel_size=3,activation='relu',input_shape=[64,64,3]))"
   ]
  },
  {
   "cell_type": "code",
   "execution_count": null,
   "id": "99f48d25",
   "metadata": {},
   "outputs": [],
   "source": [
    "#Pooling\n",
    "cnn.add(tf.keras.layers.MaxPool2D(pool_size=2,strides=2))"
   ]
  },
  {
   "cell_type": "code",
   "execution_count": null,
   "id": "e1a06c09",
   "metadata": {},
   "outputs": [],
   "source": [
    "#second layer\n",
    "cnn.add(tf.keras.layers.Conv2D(filters=32, kernel_size=3, activation='relu'))\n",
    "cnn.add(tf.keras.layers.MaxPool2D(pool_size=2, strides=2))"
   ]
  },
  {
   "cell_type": "code",
   "execution_count": null,
   "id": "64b25456",
   "metadata": {},
   "outputs": [],
   "source": [
    "#Flatten\n",
    "cnn.add(tf.keras.layers.Flatten())"
   ]
  },
  {
   "cell_type": "code",
   "execution_count": null,
   "id": "4a69e41e",
   "metadata": {},
   "outputs": [],
   "source": [
    "#Full Connection\n",
    "cnn.add(tf.keras.layers.Dense(units=110,activation='relu'))\n",
    "cnn.add(tf.keras.layers.Dense(units=62,activation='relu'))\n"
   ]
  },
  {
   "cell_type": "code",
   "execution_count": null,
   "id": "a8f483d6",
   "metadata": {},
   "outputs": [],
   "source": [
    "#Output Layers\n",
    "cnn.add(tf.keras.layers.Dense(units=35,activation='softmax'))\n"
   ]
  },
  {
   "cell_type": "markdown",
   "id": "e437df2a",
   "metadata": {},
   "source": [
    "# Training the CNN\n"
   ]
  },
  {
   "cell_type": "code",
   "execution_count": null,
   "id": "d3909afe",
   "metadata": {},
   "outputs": [],
   "source": [
    "#Compiling the CNN\n",
    "cnn.compile(optimizer='adam',loss='categorical_crossentropy',metrics=['accuracy'])"
   ]
  },
  {
   "cell_type": "code",
   "execution_count": null,
   "id": "636c587a",
   "metadata": {},
   "outputs": [],
   "source": [
    "#Training the model on dataset\n",
    "cnn.fit(x = training_set, validation_data = test_set, epochs = 40)"
   ]
  },
  {
   "cell_type": "code",
   "execution_count": null,
   "id": "886a9dc7",
   "metadata": {},
   "outputs": [],
   "source": []
  }
 ],
 "metadata": {
  "kernelspec": {
   "display_name": "Python 3 (ipykernel)",
   "language": "python",
   "name": "python3"
  },
  "language_info": {
   "codemirror_mode": {
    "name": "ipython",
    "version": 3
   },
   "file_extension": ".py",
   "mimetype": "text/x-python",
   "name": "python",
   "nbconvert_exporter": "python",
   "pygments_lexer": "ipython3",
   "version": "3.9.7"
  }
 },
 "nbformat": 4,
 "nbformat_minor": 5
}
