{
 "cells": [
  {
   "cell_type": "markdown",
   "id": "10ff47fc",
   "metadata": {},
   "source": [
    "# Indian Sign Language Detection\n"
   ]
  },
  {
   "cell_type": "code",
   "execution_count": 55,
   "id": "6efde190",
   "metadata": {},
   "outputs": [],
   "source": [
    "import tensorflow as tf\n",
    "from keras.preprocessing.image import ImageDataGenerator"
   ]
  },
  {
   "cell_type": "code",
   "execution_count": 56,
   "id": "b6ebff60",
   "metadata": {},
   "outputs": [],
   "source": [
    "#Preprocessing of training set\n",
    "train_datagen=ImageDataGenerator(rescale=1./255,\n",
    "                                 shear_range=0.2,\n",
    "                                zoom_range=0.2,\n",
    "                                horizontal_flip=True)"
   ]
  },
  {
   "cell_type": "code",
   "execution_count": 57,
   "id": "03004c41",
   "metadata": {},
   "outputs": [
    {
     "name": "stdout",
     "output_type": "stream",
     "text": [
      "Found 34357 images belonging to 35 classes.\n"
     ]
    }
   ],
   "source": [
    "#Training Set\n",
    "training_set=train_datagen.flow_from_directory('dataset/training_set',\n",
    "                                              target_size=(64,64),\n",
    "                                              batch_size=32,\n",
    "                                              class_mode='categorical')"
   ]
  },
  {
   "cell_type": "code",
   "execution_count": 58,
   "id": "97f23ff4",
   "metadata": {},
   "outputs": [
    {
     "name": "stdout",
     "output_type": "stream",
     "text": [
      "Found 8388 images belonging to 35 classes.\n"
     ]
    }
   ],
   "source": [
    "#Test Set\n",
    "test_datagen=ImageDataGenerator(rescale=1./255)\n",
    "test_set=test_datagen.flow_from_directory('dataset/test_set',target_size=(64,64),\n",
    "                                         class_mode='categorical')"
   ]
  },
  {
   "cell_type": "code",
   "execution_count": 59,
   "id": "551182c1",
   "metadata": {},
   "outputs": [],
   "source": [
    "#BUILDING CNN\n",
    "#initialise CNN\n",
    "cnn=tf.keras.models.Sequential()"
   ]
  },
  {
   "cell_type": "code",
   "execution_count": 60,
   "id": "b4417f31",
   "metadata": {},
   "outputs": [],
   "source": [
    "#Convulation\n",
    "cnn.add(tf.keras.layers.Conv2D(filters=32,kernel_size=3,activation='relu',input_shape=[64,64,3]))"
   ]
  },
  {
   "cell_type": "code",
   "execution_count": 61,
   "id": "99f48d25",
   "metadata": {},
   "outputs": [],
   "source": [
    "#Pooling\n",
    "cnn.add(tf.keras.layers.MaxPool2D(pool_size=2,strides=2))"
   ]
  },
  {
   "cell_type": "code",
   "execution_count": 62,
   "id": "e1a06c09",
   "metadata": {},
   "outputs": [],
   "source": [
    "#second layer\n",
    "cnn.add(tf.keras.layers.Conv2D(filters=32, kernel_size=3, activation='relu'))\n",
    "cnn.add(tf.keras.layers.MaxPool2D(pool_size=2, strides=2))"
   ]
  },
  {
   "cell_type": "code",
   "execution_count": 63,
   "id": "64b25456",
   "metadata": {},
   "outputs": [],
   "source": [
    "#Flatten\n",
    "cnn.add(tf.keras.layers.Flatten())"
   ]
  },
  {
   "cell_type": "code",
   "execution_count": 64,
   "id": "4a69e41e",
   "metadata": {},
   "outputs": [],
   "source": [
    "#Full Connection\n",
    "cnn.add(tf.keras.layers.Dense(units=110,activation='relu'))\n",
    "cnn.add(tf.keras.layers.Dense(units=62,activation='relu'))\n"
   ]
  },
  {
   "cell_type": "code",
   "execution_count": 65,
   "id": "a8f483d6",
   "metadata": {},
   "outputs": [],
   "source": [
    "#Output Layers\n",
    "cnn.add(tf.keras.layers.Dense(units=35,activation='softmax'))\n"
   ]
  },
  {
   "cell_type": "markdown",
   "id": "e437df2a",
   "metadata": {},
   "source": [
    "# Training the CNN\n"
   ]
  },
  {
   "cell_type": "code",
   "execution_count": 66,
   "id": "d3909afe",
   "metadata": {},
   "outputs": [],
   "source": [
    "#Compiling the CNN\n",
    "cnn.compile(optimizer='adam',loss='categorical_crossentropy',metrics=['accuracy'])"
   ]
  },
  {
   "cell_type": "code",
   "execution_count": 67,
   "id": "636c587a",
   "metadata": {},
   "outputs": [
    {
     "name": "stdout",
     "output_type": "stream",
     "text": [
      "Epoch 1/20\n",
      "1074/1074 [==============================] - 408s 379ms/step - loss: 0.1913 - accuracy: 0.9511 - val_loss: 0.3987 - val_accuracy: 0.9517\n",
      "Epoch 2/20\n",
      "1074/1074 [==============================] - 169s 157ms/step - loss: 0.0144 - accuracy: 0.9967 - val_loss: 0.2106 - val_accuracy: 0.9515\n",
      "Epoch 3/20\n",
      "1074/1074 [==============================] - 185s 172ms/step - loss: 0.0061 - accuracy: 0.9989 - val_loss: 0.3136 - val_accuracy: 0.9709\n",
      "Epoch 4/20\n",
      "1074/1074 [==============================] - 170s 158ms/step - loss: 0.0045 - accuracy: 0.9990 - val_loss: 0.2137 - val_accuracy: 0.9794\n",
      "Epoch 5/20\n",
      "1074/1074 [==============================] - 168s 157ms/step - loss: 0.0061 - accuracy: 0.9983 - val_loss: 0.1785 - val_accuracy: 0.9735\n",
      "Epoch 6/20\n",
      "1074/1074 [==============================] - 143s 133ms/step - loss: 0.0040 - accuracy: 0.9991 - val_loss: 0.2281 - val_accuracy: 0.9763\n",
      "Epoch 7/20\n",
      "1074/1074 [==============================] - 139s 130ms/step - loss: 0.0032 - accuracy: 0.9990 - val_loss: 0.2089 - val_accuracy: 0.9797\n",
      "Epoch 8/20\n",
      "1074/1074 [==============================] - 139s 129ms/step - loss: 0.0038 - accuracy: 0.9988 - val_loss: 0.0975 - val_accuracy: 0.9800\n",
      "Epoch 9/20\n",
      "1074/1074 [==============================] - 141s 131ms/step - loss: 0.0031 - accuracy: 0.9992 - val_loss: 0.1187 - val_accuracy: 0.9814\n",
      "Epoch 10/20\n",
      "1074/1074 [==============================] - 140s 130ms/step - loss: 6.1960e-04 - accuracy: 0.9998 - val_loss: 0.1099 - val_accuracy: 0.9812\n",
      "Epoch 11/20\n",
      "1074/1074 [==============================] - 140s 131ms/step - loss: 0.0048 - accuracy: 0.9987 - val_loss: 0.2791 - val_accuracy: 0.9795\n",
      "Epoch 12/20\n",
      "1074/1074 [==============================] - 140s 130ms/step - loss: 0.0012 - accuracy: 0.9997 - val_loss: 0.1596 - val_accuracy: 0.9824\n",
      "Epoch 13/20\n",
      "1074/1074 [==============================] - 142s 132ms/step - loss: 1.4131e-05 - accuracy: 1.0000 - val_loss: 0.1726 - val_accuracy: 0.9825\n",
      "Epoch 14/20\n",
      "1074/1074 [==============================] - 148s 138ms/step - loss: 3.4570e-06 - accuracy: 1.0000 - val_loss: 0.1853 - val_accuracy: 0.9830\n",
      "Epoch 15/20\n",
      "1074/1074 [==============================] - 146s 136ms/step - loss: 1.4131e-06 - accuracy: 1.0000 - val_loss: 0.2044 - val_accuracy: 0.9831\n",
      "Epoch 16/20\n",
      "1074/1074 [==============================] - 146s 136ms/step - loss: 1.1265e-06 - accuracy: 1.0000 - val_loss: 0.2351 - val_accuracy: 0.9824\n",
      "Epoch 17/20\n",
      "1074/1074 [==============================] - 145s 135ms/step - loss: 0.0069 - accuracy: 0.9985 - val_loss: 0.1363 - val_accuracy: 0.9632\n",
      "Epoch 18/20\n",
      "1074/1074 [==============================] - 145s 135ms/step - loss: 3.1012e-04 - accuracy: 0.9998 - val_loss: 0.0830 - val_accuracy: 0.9802\n",
      "Epoch 19/20\n",
      "1074/1074 [==============================] - 148s 138ms/step - loss: 7.8595e-06 - accuracy: 1.0000 - val_loss: 0.0941 - val_accuracy: 0.9820\n",
      "Epoch 20/20\n",
      "1074/1074 [==============================] - 165s 154ms/step - loss: 3.6516e-06 - accuracy: 1.0000 - val_loss: 0.0870 - val_accuracy: 0.9828\n"
     ]
    },
    {
     "data": {
      "text/plain": [
       "<keras.callbacks.History at 0x1e7e482c340>"
      ]
     },
     "execution_count": 67,
     "metadata": {},
     "output_type": "execute_result"
    }
   ],
   "source": [
    "#Training the model on dataset\n",
    "cnn.fit(x = training_set, validation_data = test_set, epochs = 20)"
   ]
  },
  {
   "cell_type": "code",
   "execution_count": 82,
   "id": "886a9dc7",
   "metadata": {},
   "outputs": [
    {
     "name": "stdout",
     "output_type": "stream",
     "text": [
      "[[[10. 12. 27.]\n",
      "  [12. 15. 30.]\n",
      "  [11. 14. 31.]\n",
      "  ...\n",
      "  [16. 14. 35.]\n",
      "  [11. 17. 29.]\n",
      "  [15. 41. 30.]]\n",
      "\n",
      " [[10. 12. 27.]\n",
      "  [12. 15. 30.]\n",
      "  [10. 13. 30.]\n",
      "  ...\n",
      "  [15. 13. 34.]\n",
      "  [ 9. 15. 27.]\n",
      "  [18. 44. 33.]]\n",
      "\n",
      " [[ 9. 11. 26.]\n",
      "  [11. 14. 29.]\n",
      "  [12. 15. 30.]\n",
      "  ...\n",
      "  [17. 15. 36.]\n",
      "  [ 8. 14. 26.]\n",
      "  [16. 42. 31.]]\n",
      "\n",
      " ...\n",
      "\n",
      " [[11.  7. 24.]\n",
      "  [11.  7. 24.]\n",
      "  [12.  8. 25.]\n",
      "  ...\n",
      "  [10.  1. 20.]\n",
      "  [ 5.  5. 15.]\n",
      "  [17. 35. 23.]]\n",
      "\n",
      " [[ 5.  9. 18.]\n",
      "  [ 6. 11. 17.]\n",
      "  [ 4.  9. 15.]\n",
      "  ...\n",
      "  [ 5.  5. 17.]\n",
      "  [ 0. 10. 11.]\n",
      "  [13. 40. 21.]]\n",
      "\n",
      " [[17. 39. 26.]\n",
      "  [16. 38. 25.]\n",
      "  [16. 38. 25.]\n",
      "  ...\n",
      "  [17. 37. 28.]\n",
      "  [11. 40. 20.]\n",
      "  [21. 67. 28.]]]\n"
     ]
    }
   ],
   "source": [
    "#Making a single prediction\n",
    "import numpy as np\n",
    "from keras.preprocessing import image\n",
    "test_image = image.load_img('dataset\\single_prediction\\W.jpg', target_size = (64, 64))\n",
    "test_image = image.img_to_array(test_image)\n",
    "print(test_image)"
   ]
  },
  {
   "cell_type": "code",
   "execution_count": 83,
   "id": "18ca3f3b",
   "metadata": {},
   "outputs": [],
   "source": [
    "#expanding dimension to enable working of our model on batch specified\n",
    "test_image = np.expand_dims(test_image, axis = 0)"
   ]
  },
  {
   "cell_type": "code",
   "execution_count": 26,
   "id": "1af2f6a5",
   "metadata": {},
   "outputs": [
    {
     "name": "stdout",
     "output_type": "stream",
     "text": [
      "(1, 64, 64, 3)\n"
     ]
    }
   ],
   "source": [
    "print(test_image.shape)  #every row in new container is a batch"
   ]
  },
  {
   "cell_type": "code",
   "execution_count": 84,
   "id": "e0ff9658",
   "metadata": {},
   "outputs": [
    {
     "name": "stdout",
     "output_type": "stream",
     "text": [
      "[[0. 0. 0. 0. 0. 0. 0. 0. 0. 0. 0. 0. 0. 0. 0. 0. 0. 0. 0. 0. 0. 0. 0. 0.\n",
      "  0. 0. 0. 0. 0. 0. 0. 1. 0. 0. 0.]]\n"
     ]
    }
   ],
   "source": [
    "#predicting test image\n",
    "result = cnn.predict(test_image) \n",
    "print(result)\n"
   ]
  },
  {
   "cell_type": "code",
   "execution_count": 28,
   "id": "83fadd4e",
   "metadata": {},
   "outputs": [
    {
     "data": {
      "text/plain": [
       "{'1': 0,\n",
       " '2': 1,\n",
       " '3': 2,\n",
       " '4': 3,\n",
       " '5': 4,\n",
       " '6': 5,\n",
       " '7': 6,\n",
       " '8': 7,\n",
       " '9': 8,\n",
       " 'A': 9,\n",
       " 'B': 10,\n",
       " 'C': 11,\n",
       " 'D': 12,\n",
       " 'E': 13,\n",
       " 'F': 14,\n",
       " 'G': 15,\n",
       " 'H': 16,\n",
       " 'I': 17,\n",
       " 'J': 18,\n",
       " 'K': 19,\n",
       " 'L': 20,\n",
       " 'M': 21,\n",
       " 'N': 22,\n",
       " 'O': 23,\n",
       " 'P': 24,\n",
       " 'Q': 25,\n",
       " 'R': 26,\n",
       " 'S': 27,\n",
       " 'T': 28,\n",
       " 'U': 29,\n",
       " 'V': 30,\n",
       " 'W': 31,\n",
       " 'X': 32,\n",
       " 'Y': 33,\n",
       " 'Z': 34}"
      ]
     },
     "execution_count": 28,
     "metadata": {},
     "output_type": "execute_result"
    }
   ],
   "source": [
    "training_set.class_indices\n"
   ]
  },
  {
   "cell_type": "code",
   "execution_count": 85,
   "id": "bdc2078d",
   "metadata": {},
   "outputs": [
    {
     "name": "stdout",
     "output_type": "stream",
     "text": [
      "W\n"
     ]
    }
   ],
   "source": [
    "\n",
    "for i in range(35):\n",
    "    if (result[0][i]==1):\n",
    "        index=i\n",
    "if(index<=8):\n",
    "    print(index+1)\n",
    "else:\n",
    "    print(chr(index+56))"
   ]
  },
  {
   "cell_type": "code",
   "execution_count": null,
   "id": "e8311d9b",
   "metadata": {},
   "outputs": [],
   "source": []
  }
 ],
 "metadata": {
  "kernelspec": {
   "display_name": "Python 3 (ipykernel)",
   "language": "python",
   "name": "python3"
  },
  "language_info": {
   "codemirror_mode": {
    "name": "ipython",
    "version": 3
   },
   "file_extension": ".py",
   "mimetype": "text/x-python",
   "name": "python",
   "nbconvert_exporter": "python",
   "pygments_lexer": "ipython3",
   "version": "3.9.7"
  }
 },
 "nbformat": 4,
 "nbformat_minor": 5
}
